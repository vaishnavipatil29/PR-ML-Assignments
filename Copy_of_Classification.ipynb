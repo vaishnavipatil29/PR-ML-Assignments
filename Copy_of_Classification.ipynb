{
  "nbformat": 4,
  "nbformat_minor": 0,
  "metadata": {
    "colab": {
      "name": "Copy of Classification.ipynb",
      "provenance": [],
      "collapsed_sections": [
        "p8Zk66RiWuS5"
      ],
      "include_colab_link": true
    },
    "kernelspec": {
      "name": "python3",
      "display_name": "Python 3"
    }
  },
  "cells": [
    {
      "cell_type": "markdown",
      "metadata": {
        "id": "view-in-github",
        "colab_type": "text"
      },
      "source": [
        "<a href=\"https://colab.research.google.com/github/vaishnavipatil29/PR-ML-Assignments/blob/main/Copy_of_Classification.ipynb\" target=\"_parent\"><img src=\"https://colab.research.google.com/assets/colab-badge.svg\" alt=\"Open In Colab\"/></a>"
      ]
    },
    {
      "cell_type": "markdown",
      "metadata": {
        "id": "VnlrpU7ghpw2"
      },
      "source": [
        " Classification:\n",
        "\n",
        " 1. Linear regression\n",
        " 2. Logistic regression\n",
        "\n",
        " 3. Support vector machine\n"
      ]
    },
    {
      "cell_type": "markdown",
      "metadata": {
        "id": "eRGPI27lR8Mf"
      },
      "source": [
        "# Linear regression\n",
        "\n",
        "1. Generate 1D data synthetically\n",
        "2. Take the earlier designed linear regression class\n",
        "3. Find the fitting line \n",
        "4. Taking 0.5 as threshold, see the classification    "
      ]
    },
    {
      "cell_type": "markdown",
      "metadata": {
        "id": "QG5ViP_ONHm-"
      },
      "source": [
        "Colab-link https://colab.research.google.com/drive/15A73xlgnM9X7A_JappTx65ix2fZBQ2tl?usp=sharing"
      ]
    },
    {
      "cell_type": "code",
      "metadata": {
        "id": "7c8soHbzhk2L",
        "colab": {
          "base_uri": "https://localhost:8080/",
          "height": 279
        },
        "outputId": "4ec5d9c5-ce73-4a87-8121-11abd5b55f6a"
      },
      "source": [
        "import numpy as np\n",
        "import matplotlib.pyplot as plt\n",
        "import random\n",
        "\n",
        "# insert your code here\n",
        "x = np.linspace(0,1,100)\n",
        "#print(x)\n",
        "x_classified = []\n",
        "for i in x:\n",
        "  if i >= 0.5:\n",
        "    x_classified.append(1)\n",
        "  elif i<0.5:\n",
        "    x_classified.append(0)\n",
        "#print(x_classified)\n",
        "plt.scatter(x,x_classified)\n",
        "plt.xlabel('x')\n",
        "plt.ylabel('x_classified')\n",
        "plt.show()\n"
      ],
      "execution_count": null,
      "outputs": [
        {
          "output_type": "display_data",
          "data": {
            "image/png": "[encoded data removed]",
            "text/plain": [
              "<Figure size 432x288 with 1 Axes>"
            ]
          },
          "metadata": {
            "tags": [],
            "needs_background": "light"
          }
        }
      ]
    },
    {
      "cell_type": "markdown",
      "metadata": {
        "id": "nxli0Pr6LLcC"
      },
      "source": [
        "Defining linear regression class"
      ]
    },
    {
      "cell_type": "code",
      "metadata": {
        "id": "r_Ht9UfyVeJA"
      },
      "source": [
        "# linear regression class\n",
        "class lin_regression:\n",
        "  # Constructor\n",
        "  def __init__(self, name='reg'):\n",
        "    self.name = name  # Create an instance variable\n",
        "\n",
        "  def grad_update(self,w_old,lr,y,x):\n",
        "    w=w_old + 2*lr*(x @ (y - x.T @w_old))/y.shape[0]# insert your code here\n",
        "    return w  \n",
        "\n",
        "  def error(self,w,y,x):\n",
        "    return np.mean(np.square(y - x.T @ w)) # insert your code here\n",
        "\n",
        "  def mat_inv(self,y,x_aug):\n",
        "    return np.linalg.pinv(x_aug @ x_aug.T) @ x_aug @ y # insert your code here\n",
        "    # by Gradien descent\n",
        "  def Regression_grad_des(self,x,y,lr):\n",
        "    err=[]\n",
        "    w_pred = np.random.rand(len(x),1)\n",
        "    for i in range(1000):\n",
        "     # insert your code here\n",
        "     err.append(self.error(w_pred,y,x))\n",
        "     w_pred = self.grad_update(w_pred,lr,y,x)\n",
        "    err = np.asarray(err)\n",
        "    return w_pred,err\n"
      ],
      "execution_count": null,
      "outputs": []
    },
    {
      "cell_type": "markdown",
      "metadata": {
        "id": "hE8LPW0zyGZO"
      },
      "source": [
        "Data augmentation and optimal weight generation"
      ]
    },
    {
      "cell_type": "code",
      "metadata": {
        "id": "c_Aw3KP0DP7e",
        "colab": {
          "base_uri": "https://localhost:8080/"
        },
        "outputId": "05b5a329-231a-4df7-fc8a-504e0edcc3e1"
      },
      "source": [
        "x = np.array(x)\n",
        "x=x[:,np.newaxis] \n",
        "#print(x)\n",
        "x=x.T     # to make this in M x N format, where M is the dimension\n",
        "print(x.shape)\n",
        "x_aug=np.concatenate((np.ones((1,x.shape[1])), x),axis=0)\n",
        "print(x_aug.shape)\n",
        "\n",
        "y = np.array(x_classified)\n",
        "y=y[:,np.newaxis]\n",
        "\n",
        "ln_reg=lin_regression()\n",
        "w_opt=ln_reg.mat_inv(y,x_aug)\n"
      ],
      "execution_count": null,
      "outputs": [
        {
          "output_type": "stream",
          "text": [
            "(1, 100)\n",
            "(2, 100)\n"
          ],
          "name": "stdout"
        }
      ]
    },
    {
      "cell_type": "markdown",
      "metadata": {
        "id": "KGYU-GL9Ns19"
      },
      "source": [
        "1. Optimal separating plane generation\n",
        "2. Classification (0.5 as threshold)\n"
      ]
    },
    {
      "cell_type": "code",
      "metadata": {
        "id": "jrCD1CW9HPQ6",
        "colab": {
          "base_uri": "https://localhost:8080/",
          "height": 611
        },
        "outputId": "899aad2d-acd6-4c08-d07a-daa96c4449c6"
      },
      "source": [
        "print(w_opt) #parameters obtained from matrix inversion method\n",
        "lr=0.01\n",
        "[w_opt2,err]=ln_reg.Regression_grad_des(x_aug,y,lr)\n",
        "print(w_opt2)#parameters obtained from gradient descent method\n",
        "print(np.shape(w_opt2))\n",
        "\n",
        "# insert your code here\n",
        "#plotting errors in gradient descent\n",
        "plt.figure()\n",
        "plt.plot(err)\n",
        "plt.xlabel('No of iterations')\n",
        "plt.ylabel('Error')\n",
        "\n",
        "y_plane = w_opt[1] * x + w_opt[0]\n",
        "\n",
        "#plotting seperating plane\n",
        "plt.figure()\n",
        "plt.scatter(x,x_classified,c=x_classified)\n",
        "plt.plot(x.T,y_plane.T,color = 'orange')\n",
        "\n",
        "plt.show()\n"
      ],
      "execution_count": null,
      "outputs": [
        {
          "output_type": "stream",
          "text": [
            "[[-0.24257426]\n",
            " [ 1.48514851]]\n",
            "[[-0.10976214]\n",
            " [ 1.23733431]]\n",
            "(2, 1)\n"
          ],
          "name": "stdout"
        },
        {
          "output_type": "display_data",
          "data": {
            "image/png": "[encoded data removed]",
            "text/plain": [
              "<Figure size 432x288 with 1 Axes>"
            ]
          },
          "metadata": {
            "tags": [],
            "needs_background": "light"
          }
        },
        {
          "output_type": "display_data",
          "data": {
            "image/png": "[encoded data removed]",
            "text/plain": [
              "<Figure size 432x288 with 1 Axes>"
            ]
          },
          "metadata": {
            "tags": [],
            "needs_background": "light"
          }
        }
      ]
    },
    {
      "cell_type": "markdown",
      "metadata": {
        "id": "ubVGPFPBr5vg"
      },
      "source": [
        "## Draw back of linear regression based classification\n",
        "1. Generate data (have outlairs noise)\n",
        "2. Find the fitting line.\n",
        "3. Using 0.5 as threshold, see the classification\n",
        "4. using matrix inversion (home work)\n"
      ]
    },
    {
      "cell_type": "code",
      "metadata": {
        "id": "Y2PNLjhNzPW7",
        "colab": {
          "base_uri": "https://localhost:8080/",
          "height": 279
        },
        "outputId": "e0be5585-890b-43ff-f4e9-ab88d359ac61"
      },
      "source": [
        "import numpy as np\n",
        "import matplotlib.pyplot as plt\n",
        "\n",
        "# insert your code here\n",
        "x = np.concatenate((np.linspace(0,1,250),np.linspace(3.5,3.7,50)))\n",
        "x = np.array(x)\n",
        "x_classified = []\n",
        "for i in x:\n",
        "  if i >= 0.5:\n",
        "    x_classified.append(1)\n",
        "  elif i<0.5:\n",
        "    x_classified.append(0)\n",
        "#print(x_classified)\n",
        "plt.scatter(x,x_classified)\n",
        "plt.xlabel('x')\n",
        "plt.ylabel('x_classified')\n",
        "plt.show()\n",
        "\n"
      ],
      "execution_count": null,
      "outputs": [
        {
          "output_type": "display_data",
          "data": {
            "image/png": "[encoded data removed]",
            "text/plain": [
              "<Figure size 432x288 with 1 Axes>"
            ]
          },
          "metadata": {
            "tags": [],
            "needs_background": "light"
          }
        }
      ]
    },
    {
      "cell_type": "markdown",
      "metadata": {
        "id": "C7uM2mMgOL2r"
      },
      "source": [
        "Augment data"
      ]
    },
    {
      "cell_type": "code",
      "metadata": {
        "id": "r5wnJ-7Ga-z1",
        "colab": {
          "base_uri": "https://localhost:8080/"
        },
        "outputId": "5cfb7735-6fba-4b08-8aa6-734cf8a3df1b"
      },
      "source": [
        "# Augment data\n",
        "\n",
        "x=x[:,np.newaxis]\n",
        "y = np.array(x_classified)\n",
        "y=y[:,np.newaxis]\n",
        "\n",
        "x_aug=np.concatenate((np.ones((1,x.shape[0])), x.T),axis=0)\n",
        "print(x_aug.shape)\n",
        "\n"
      ],
      "execution_count": null,
      "outputs": [
        {
          "output_type": "stream",
          "text": [
            "(2, 300)\n"
          ],
          "name": "stdout"
        }
      ]
    },
    {
      "cell_type": "markdown",
      "metadata": {
        "id": "3rvRLZbROQNZ"
      },
      "source": [
        "1. find optimal weight\n",
        "2. perform classification (0.5 as threshold)"
      ]
    },
    {
      "cell_type": "code",
      "metadata": {
        "id": "T7GGW3bbdb8I",
        "colab": {
          "base_uri": "https://localhost:8080/",
          "height": 578
        },
        "outputId": "7433063a-21c9-45a7-d0b9-6283ae37fdc9"
      },
      "source": [
        "lr=0.01\n",
        "\n",
        "lin_reg=lin_regression()\n",
        "# insert your code here\n",
        "print(y.shape)\n",
        "[w_opt2,err]=lin_reg.Regression_grad_des(x_aug,y,lr)\n",
        "print(w_opt2)#parameters obtained from gradient descent method\n",
        "\n",
        "\n",
        "#plotting errors in gradient descent\n",
        "plt.figure()\n",
        "plt.plot(err)\n",
        "plt.xlabel('No of iterations')\n",
        "plt.ylabel('Error')\n",
        "\n",
        "y_plane = w_opt2[1] * x + w_opt2[0]\n",
        "\n",
        "\n",
        "#plotting seperating plane\n",
        "plt.figure()\n",
        "plt.scatter(x,x_classified,c=x_classified)\n",
        "plt.plot(x,y_plane,color = 'orange')\n",
        "\n",
        "plt.show()\n"
      ],
      "execution_count": null,
      "outputs": [
        {
          "output_type": "stream",
          "text": [
            "(300, 1)\n",
            "[[0.35191126]\n",
            " [0.22762023]]\n"
          ],
          "name": "stdout"
        },
        {
          "output_type": "display_data",
          "data": {
            "image/png": "[encoded data removed]",
            "text/plain": [
              "<Figure size 432x288 with 1 Axes>"
            ]
          },
          "metadata": {
            "tags": [],
            "needs_background": "light"
          }
        },
        {
          "output_type": "display_data",
          "data": {
            "image/png": "[encoded data removed]",
            "text/plain": [
              "<Figure size 432x288 with 1 Axes>"
            ]
          },
          "metadata": {
            "tags": [],
            "needs_background": "light"
          }
        }
      ]
    },
    {
      "cell_type": "markdown",
      "metadata": {
        "id": "praLrLBjM2EW"
      },
      "source": [
        "# logistic regression\n",
        "1. Error surface (logistic loss vs. MSE)\n",
        "2. Solve the outlair issue\n",
        "3. Circularly separable data classification\n",
        "4. Multiclass classification"
      ]
    },
    {
      "cell_type": "markdown",
      "metadata": {
        "id": "mdHTm3EhDYdr"
      },
      "source": [
        "## Error surface (logistic loss vs. MSE)"
      ]
    },
    {
      "cell_type": "code",
      "metadata": {
        "id": "cU3DV5bkDX8c",
        "colab": {
          "base_uri": "https://localhost:8080/",
          "height": 265
        },
        "outputId": "63054663-c217-4f58-eeba-8ca06e713dc2"
      },
      "source": [
        "import numpy as np\n",
        "import matplotlib.pyplot as plt\n",
        "\n",
        "\n",
        "x=np.linspace(-5,5,25)\n",
        "y=np.zeros(x.shape)\n",
        "y[np.where(x>0.7314)]=1\n",
        "\n",
        "plt.plot(x,y,'.')\n",
        "plt.show()"
      ],
      "execution_count": null,
      "outputs": [
        {
          "output_type": "display_data",
          "data": {
            "image/png": "[encoded data removed]",
            "text/plain": [
              "<Figure size 432x288 with 1 Axes>"
            ]
          },
          "metadata": {
            "tags": [],
            "needs_background": "light"
          }
        }
      ]
    },
    {
      "cell_type": "markdown",
      "metadata": {
        "id": "tIdvMRuDLOGM"
      },
      "source": [
        "1. MSE=$\\frac{1}{2N}\\sum_{i=1}^{N}(y^{p}_{i}-y_{i})^2$, where $y^{p}=\\frac{1}{1+e^{-w^{T}x}}$\n",
        "2. Logistic loss=$-\\frac{1}{N}\\sum_{i=1}^{N}y_{i}log(y^{p}_{i})+(1-y_{i})log(1-y_{i}^{p})$"
      ]
    },
    {
      "cell_type": "code",
      "metadata": {
        "id": "JDzS5KMHGIlK"
      },
      "source": [
        "# search space (only w1 is searched, where as w0 is fixed)\n",
        "w1_in=10/(x[1]-x[0])\n",
        "\n",
        "w0=-w1_in*0.7314 #initialise w0\n",
        "w1=np.linspace(-w1_in,4*w1_in,25) #vary w1\n",
        "w = [w0,w1] #parameters\n",
        "\n",
        "cost_fn_mse=[]  #MSE\n",
        "cost_fn_logis=[] #logistic cost function\n",
        "#print(x.shape[0])\n",
        "for i in range(w1.shape[0]):\n",
        " # insert your code here\n",
        "  z = w0+ w1[i]*x #theta'x\n",
        "  y_p  = 1/(1+np.exp(-z))   #hypothesis:sigmoid\n",
        "  cost_mse = (1/2)*np.mean(np.square(y_p - y))  #Mean Squared Error\n",
        "  cost_fn_mse.append(cost_mse)\n",
        "  \n",
        "  cost_logis= -1*np.mean(y*np.log(0.00001+y_p) +(1-y)*np.log(0.00001+1-y_p))#Logistic Cost Funnction\n",
        " \n",
        "  cost_fn_logis.append(cost_logis)\n",
        "#print(cost_fn_logis)\n",
        "#print(cost_fn_mse)"
      ],
      "execution_count": null,
      "outputs": []
    },
    {
      "cell_type": "code",
      "metadata": {
        "id": "1QdaVsP1Js_x",
        "colab": {
          "base_uri": "https://localhost:8080/",
          "height": 296
        },
        "outputId": "3ba88b50-63b1-44a6-8072-183ec6e7de64"
      },
      "source": [
        "# ploting of error surface\n",
        "plt.figure()\n",
        "plt.plot(w1,np.log(cost_fn_mse),color='blue')\n",
        "plt.plot(w1,np.log(cost_fn_logis),color='black')\n",
        "plt.xlabel('w1')\n",
        "plt.ylabel('Blue:MSE,Black:Logistic Loss')"
      ],
      "execution_count": null,
      "outputs": [
        {
          "output_type": "execute_result",
          "data": {
            "text/plain": [
              "Text(0, 0.5, 'Blue:MSE,Black:Logistic Loss')"
            ]
          },
          "metadata": {
            "tags": []
          },
          "execution_count": 4
        },
        {
          "output_type": "display_data",
          "data": {
            "image/png": "[encoded data removed]",
            "text/plain": [
              "<Figure size 432x288 with 1 Axes>"
            ]
          },
          "metadata": {
            "tags": [],
            "needs_background": "light"
          }
        }
      ]
    },
    {
      "cell_type": "markdown",
      "metadata": {
        "id": "lzRAXAYsiuhp"
      },
      "source": [
        "## Solve the outlier issue\n"
      ]
    },
    {
      "cell_type": "code",
      "metadata": {
        "id": "_CGKgXFTh5B-",
        "colab": {
          "base_uri": "https://localhost:8080/",
          "height": 332
        },
        "outputId": "a0b3669e-7265-4f3c-b265-4b325b0c9ed1"
      },
      "source": [
        "# logistic regression\n",
        "import numpy as np\n",
        "import matplotlib.pyplot as plt\n",
        "\n",
        "# insert your code here\n",
        "x1 = np.linspace(0,0.5,300)\n",
        "x2 = np.linspace(0.7,1.2,300)\n",
        "x3 = np.linspace(3.5,3.7,100)\n",
        "x = np.concatenate((x1,x2,x3))\n",
        "x = np.array(x)\n",
        "x_classified = []\n",
        "for i in x:\n",
        "  if i >= 0.7:\n",
        "    x_classified.append(1)\n",
        "  elif i<0.7:\n",
        "    x_classified.append(0)\n",
        "x_classified = np.array(x_classified)\n",
        "print(x1.shape)\n",
        "print(x3.shape)\n",
        "print(x2.shape)\n",
        "plt.figure()\n",
        "plt.plot(x,x_classified,'.')"
      ],
      "execution_count": null,
      "outputs": [
        {
          "output_type": "stream",
          "text": [
            "(300,)\n",
            "(100,)\n",
            "(300,)\n"
          ],
          "name": "stdout"
        },
        {
          "output_type": "execute_result",
          "data": {
            "text/plain": [
              "[<matplotlib.lines.Line2D at 0x7f8a2bf9f9b0>]"
            ]
          },
          "metadata": {
            "tags": []
          },
          "execution_count": 6
        },
        {
          "output_type": "display_data",
          "data": {
            "image/png": "[encoded data removed]",
            "text/plain": [
              "<Figure size 432x288 with 1 Axes>"
            ]
          },
          "metadata": {
            "tags": [],
            "needs_background": "light"
          }
        }
      ]
    },
    {
      "cell_type": "code",
      "metadata": {
        "id": "PE5x893HD4Km"
      },
      "source": [
        "from numpy import log, dot, e\n",
        "from numpy.random import rand\n",
        "class Logistic_Regression:\n",
        "    \n",
        "    def sigmoid(self, z):\n",
        "       return 1 / (1 + e**(-z))\n",
        "    \n",
        "    def cost_function(self, X, y, weights):                 \n",
        "        z = dot(X, weights)\n",
        "        predict_1 = y * log(self.sigmoid(z))\n",
        "        predict_0 = (1 - y) * log(1 - self.sigmoid(z))\n",
        "        return -sum(predict_1 + predict_0) / len(X)\n",
        "    \n",
        "    def fit(self, X, y, epochs=2000, lr=0.05):        \n",
        "        loss = []\n",
        "        weights = rand(X.shape[1],1)\n",
        "        N = len(X)\n",
        "                 \n",
        "        for _ in range(epochs):        \n",
        "            # Gradient Descent\n",
        "            y_hat = self.sigmoid(dot(X, weights))\n",
        "            y_hat = np.asarray(y_hat)\n",
        "            y_hat = y_hat.reshape(len(y_hat),1) \n",
        "            weights -= lr * dot(X.T,  y_hat - y) / N           \n",
        "            # Saving Progress\n",
        "            loss.append(self.cost_function(X, y, weights)) \n",
        "            \n",
        "        self.weights = weights\n",
        "        self.loss = loss\n",
        "        return self.weights,self.loss\n",
        "    \n",
        "    def predict(self, X):        \n",
        "        # Predicting with sigmoid function\n",
        "        z = dot(X, self.weights)\n",
        "        # Returning binary result\n",
        "        return [1 if i > 0.5 else 0 for i in self.sigmoid(z)]"
      ],
      "execution_count": null,
      "outputs": []
    },
    {
      "cell_type": "code",
      "metadata": {
        "id": "8pRanc1ejLWO",
        "colab": {
          "base_uri": "https://localhost:8080/"
        },
        "outputId": "665fb4ed-3ec2-4679-dee7-b6eac20537e7"
      },
      "source": [
        "# augmentation and data formating\n",
        "X =x;\n",
        "x=x[:,np.newaxis] #1D to 2D array\n",
        "y = x_classified\n",
        "y=y[:,np.newaxis]\n",
        "print(x.shape)\n",
        "print(y.shape)\n",
        "x_aug=np.concatenate((np.ones((1,x.shape[0])), x.T),axis=0)\n",
        "\n"
      ],
      "execution_count": null,
      "outputs": [
        {
          "output_type": "stream",
          "text": [
            "(700, 1)\n",
            "(700, 1)\n"
          ],
          "name": "stdout"
        }
      ]
    },
    {
      "cell_type": "code",
      "metadata": {
        "id": "lhsGmCN5n3wE",
        "colab": {
          "base_uri": "https://localhost:8080/",
          "height": 298
        },
        "outputId": "2b541625-4e00-4345-ca18-48d10e88e8ca"
      },
      "source": [
        "\n",
        "\n",
        "y = np.asarray(y)\n",
        "x_aug =np.asarray(x_aug)\n",
        "x_aug = x_aug.reshape(2,700)\n",
        "y = y.reshape(700,1) \n",
        "\n",
        "log_reg=Logistic_Regression()\n",
        "weights,err=log_reg.fit(x_aug.T,y)\n",
        "print(weights)\n",
        "\n",
        "plt.plot(err)\n",
        "\n",
        "plt.show()"
      ],
      "execution_count": null,
      "outputs": [
        {
          "output_type": "stream",
          "text": [
            "[[-3.01556724]\n",
            " [ 5.28136667]]\n"
          ],
          "name": "stdout"
        },
        {
          "output_type": "display_data",
          "data": {
            "image/png": "[encoded data removed]",
            "text/plain": [
              "<Figure size 432x288 with 1 Axes>"
            ]
          },
          "metadata": {
            "tags": [],
            "needs_background": "light"
          }
        }
      ]
    },
    {
      "cell_type": "code",
      "metadata": {
        "id": "8xWcdoE5whVm",
        "colab": {
          "base_uri": "https://localhost:8080/",
          "height": 282
        },
        "outputId": "cdbf55cd-ea0c-4c95-f5a5-a56923974e9a"
      },
      "source": [
        "# output computation\n",
        "# insert your code here\n",
        "z =  dot(x_aug.T, weights)\n",
        "y_pred = log_reg.sigmoid(z)\n",
        "x_classified = log_reg.predict(x_aug.T)\n",
        "plt.plot(X,y_pred)\n",
        "plt.scatter(X,x_classified,c=x_classified)\n",
        "plt.show()"
      ],
      "execution_count": null,
      "outputs": [
        {
          "output_type": "execute_result",
          "data": {
            "text/plain": [
              "<matplotlib.collections.PathCollection at 0x7f5f18ff2358>"
            ]
          },
          "metadata": {
            "tags": []
          },
          "execution_count": 187
        },
        {
          "output_type": "display_data",
          "data": {
            "image/png": "[encoded data removed]",
            "text/plain": [
              "<Figure size 432x288 with 1 Axes>"
            ]
          },
          "metadata": {
            "tags": [],
            "needs_background": "light"
          }
        }
      ]
    },
    {
      "cell_type": "markdown",
      "metadata": {
        "id": "9poZ8N56Z94R"
      },
      "source": [
        "## Classification of circularly separated data using logistic regression\n",
        "\n"
      ]
    },
    {
      "cell_type": "code",
      "metadata": {
        "id": "BB9LN7-QZ9Lb",
        "colab": {
          "base_uri": "https://localhost:8080/",
          "height": 265
        },
        "outputId": "6d888105-a391-4e2d-bf43-56ecaf59ed2f"
      },
      "source": [
        "# Generating circularly separated data\n",
        "import numpy as np\n",
        "import matplotlib.pyplot as plt\n",
        "\n",
        "\n",
        "x1=np.linspace(-3,3,20)\n",
        "x2=np.linspace(-3,3,20)\n",
        "\n",
        "x11,x22=np.meshgrid(x1,x2)\n",
        "plt.plot(x11,x22,'.')\n",
        "plt.show()"
      ],
      "execution_count": null,
      "outputs": [
        {
          "output_type": "display_data",
          "data": {
            "image/png": "[encoded data removed]",
            "text/plain": [
              "<Figure size 432x288 with 1 Axes>"
            ]
          },
          "metadata": {
            "tags": [],
            "needs_background": "light"
          }
        }
      ]
    },
    {
      "cell_type": "markdown",
      "metadata": {
        "id": "UH3gwRKNbf34"
      },
      "source": [
        "1. Circularly separated data generation"
      ]
    },
    {
      "cell_type": "code",
      "metadata": {
        "id": "EP4mon7Rc80v",
        "colab": {
          "base_uri": "https://localhost:8080/",
          "height": 332
        },
        "outputId": "d3cc9e64-9c99-4fd9-99b6-aa9e43b1cd69"
      },
      "source": [
        "x1=x11.flatten()\n",
        "x2=x22.flatten()\n",
        "\n",
        "x=np.concatenate((x1[:,np.newaxis],x2[:,np.newaxis]),axis=1) # to make matrix format\n",
        "print(x.shape)\n",
        "\n",
        "aind=np.where((x[:,0]**(2)+x[:,1]**(2))<=0.9)\n",
        "\n",
        "bind=np.where((x[:,0]**(2)+x[:,1]**(2))>=2.2)\n",
        "\n",
        "x1=x[aind[0],:]\n",
        "x2=x[bind[0],:]\n",
        "print(x1.shape)\n",
        "print(x2.shape)\n",
        "x=np.concatenate((x1,x2))\n",
        "print(x.shape)\n",
        "\n",
        "plt.plot(x[:,0],x[:,1],'.')\n",
        "plt.show()"
      ],
      "execution_count": null,
      "outputs": [
        {
          "output_type": "stream",
          "text": [
            "(400, 2)\n",
            "(32, 2)\n",
            "(332, 2)\n",
            "(364, 2)\n"
          ],
          "name": "stdout"
        },
        {
          "output_type": "display_data",
          "data": {
            "image/png": "[encoded data removed]",
            "text/plain": [
              "<Figure size 432x288 with 1 Axes>"
            ]
          },
          "metadata": {
            "tags": [],
            "needs_background": "light"
          }
        }
      ]
    },
    {
      "cell_type": "markdown",
      "metadata": {
        "id": "ZBZR6c0JcnDm"
      },
      "source": [
        "As in case of circularly separated data, the boundary is nonlinear, so squred feature is taken."
      ]
    },
    {
      "cell_type": "code",
      "metadata": {
        "id": "OvI2_KIfhKsS",
        "colab": {
          "base_uri": "https://localhost:8080/",
          "height": 349
        },
        "outputId": "fb452fe2-8268-4cd9-d880-38484e38da1a"
      },
      "source": [
        "# perform logistic regression\n",
        "\n",
        "y1=np.zeros((x1.shape[0]))\n",
        "y2=np.ones((x2.shape[0]))\n",
        "y=np.concatenate((y1,y2))\n",
        "\n",
        "x_aug= np.concatenate((np.ones((1,x.shape[0])), x.T),axis=0)# insert your code here  \n",
        "x_aug = np.square(x_aug)  # squring to learn circular separation\n",
        "print(x_aug.shape)\n",
        "\n",
        "log_reg=Logistic_Regression()\n",
        "w_pred,err=log_reg.fit(x_aug.T,y[:,np.newaxis])\n",
        "print(w_pred)\n",
        "plt.plot(err)\n",
        "plt.show()"
      ],
      "execution_count": null,
      "outputs": [
        {
          "output_type": "stream",
          "text": [
            "(3, 364)\n",
            "[[-1.9992102 ]\n",
            " [ 1.68453436]\n",
            " [ 1.68086653]]\n"
          ],
          "name": "stdout"
        },
        {
          "output_type": "execute_result",
          "data": {
            "text/plain": [
              "[<matplotlib.lines.Line2D at 0x7f5f19a0f160>]"
            ]
          },
          "metadata": {
            "tags": []
          },
          "execution_count": 190
        },
        {
          "output_type": "display_data",
          "data": {
            "image/png": "[encoded data removed]",
            "text/plain": [
              "<Figure size 432x288 with 1 Axes>"
            ]
          },
          "metadata": {
            "tags": [],
            "needs_background": "light"
          }
        }
      ]
    },
    {
      "cell_type": "markdown",
      "metadata": {
        "id": "aPZH3-2FdCMB"
      },
      "source": [
        "Plot classification using 0.5 as threshold"
      ]
    },
    {
      "cell_type": "code",
      "metadata": {
        "id": "3b65To6rtIGN",
        "colab": {
          "base_uri": "https://localhost:8080/",
          "height": 265
        },
        "outputId": "9be2cabc-c320-4717-ba38-9e29f0a07290"
      },
      "source": [
        "z =  dot(x_aug.T, w_pred)\n",
        "y_pred = log_reg.sigmoid(z)\n",
        "#print(y_pred.shape)\n",
        "# insert your code here\n",
        "\n",
        "for i in range(364) :\n",
        "  if y_pred[i] < 0.5 :\n",
        "    plt.scatter(x[i][0],x[i][1],color='y',marker = 'x')\n",
        "  else:\n",
        "    plt.scatter(x[i][0],x[i][1],color='r')\n",
        "\n"
      ],
      "execution_count": null,
      "outputs": [
        {
          "output_type": "display_data",
          "data": {
            "image/png": "[encoded data removed]",
            "text/plain": [
              "<Figure size 432x288 with 1 Axes>"
            ]
          },
          "metadata": {
            "tags": [],
            "needs_background": "light"
          }
        }
      ]
    },
    {
      "cell_type": "markdown",
      "metadata": {
        "id": "Lb-RLgsnC23C"
      },
      "source": [
        "## Multiclass logistic regression\n",
        "\n",
        "1. Generate 1D data with 3 classes\n"
      ]
    },
    {
      "cell_type": "markdown",
      "metadata": {
        "id": "GgonBFE8I2IL"
      },
      "source": [
        "### One vs rest classification\n",
        "\n",
        "1. lets take polynomial of order 2 (by seeing the data distribution)"
      ]
    },
    {
      "cell_type": "code",
      "metadata": {
        "id": "AcyM3i2N673z",
        "colab": {
          "base_uri": "https://localhost:8080/",
          "height": 298
        },
        "outputId": "88406ba6-e8f9-4d8d-c9b6-b709316c3925"
      },
      "source": [
        "import numpy as np\n",
        "import matplotlib.pyplot as plt\n",
        "\n",
        "x1=np.linspace(0,0.6,100)\n",
        "x2=np.linspace(1.1,2.7,100)\n",
        "x3=np.linspace(3.5,3.8,100)\n",
        "\n",
        "x=np.concatenate((x1,x2,x3))\n",
        "print(x.shape)\n",
        "\n",
        "y1=np.zeros(x1.shape)\n",
        "y2=np.ones(x2.shape)\n",
        "y3=np.tile([2],x3.shape)\n",
        "\n",
        "y=np.concatenate((y1,y2,y3))\n",
        "\n",
        "plt.figure()\n",
        "plt.plot(x,y,'.')\n"
      ],
      "execution_count": null,
      "outputs": [
        {
          "output_type": "stream",
          "text": [
            "(300,)\n"
          ],
          "name": "stdout"
        },
        {
          "output_type": "execute_result",
          "data": {
            "text/plain": [
              "[<matplotlib.lines.Line2D at 0x7f5f18fcc5c0>]"
            ]
          },
          "metadata": {
            "tags": []
          },
          "execution_count": 192
        },
        {
          "output_type": "display_data",
          "data": {
            "image/png": "[encoded data removed]",
            "text/plain": [
              "<Figure size 432x288 with 1 Axes>"
            ]
          },
          "metadata": {
            "tags": [],
            "needs_background": "light"
          }
        }
      ]
    },
    {
      "cell_type": "code",
      "metadata": {
        "id": "wBzA2n2eI1Oe"
      },
      "source": [
        "def data_transform(X,degree): \n",
        "  X_new=[]      \n",
        "  for i in range(degree +1):\n",
        "    X_new.append(X**i)              \n",
        "  X_new = np.concatenate(X_new)  \n",
        "  return X_new"
      ],
      "execution_count": null,
      "outputs": []
    },
    {
      "cell_type": "code",
      "metadata": {
        "id": "EIO8_Rnrngkt",
        "colab": {
          "base_uri": "https://localhost:8080/"
        },
        "outputId": "c542eca2-d292-47eb-8d32-337ba1f28d71"
      },
      "source": [
        "x_aug=data_transform(x[np.newaxis,:],2)\n",
        "print(x_aug.shape)\n",
        "x_sq[:,2]=np.square(x_aug[:,2])\n",
        "x1_sq[:,2]=np.square(x_aug[:,2])\n",
        "x2_sq[:,2]=np.square(x_aug[:,2])\n",
        "x3_sq[:,2]=np.square(x_aug[:,2])"
      ],
      "execution_count": null,
      "outputs": [
        {
          "output_type": "stream",
          "text": [
            "(3, 300)\n"
          ],
          "name": "stdout"
        }
      ]
    },
    {
      "cell_type": "code",
      "metadata": {
        "id": "3MPgINWrup_m",
        "colab": {
          "base_uri": "https://localhost:8080/",
          "height": 630
        },
        "outputId": "864f5f85-4449-4a19-8723-1e9b67efbef3"
      },
      "source": [
        "# plot for classification\n",
        "y[200:300] = 1\n",
        "y = np.asarray(y)\n",
        "y = y.reshape(300,1)\n",
        "\n",
        "weights1,err=log_reg.fit(x_aug.T,y)\n",
        "z =  dot(x_aug.T, weights1)\n",
        "y_pred = log_reg.sigmoid(z)\n",
        "x_classified = log_reg.predict(x_aug.T)\n",
        "print(weights)\n",
        "plt.plot(err)\n",
        "plt.show()\n",
        "plt.plot(x,y_pred)\n",
        "plt.scatter(x,x_classified,c=x_classified)\n",
        "plt.show()"
      ],
      "execution_count": null,
      "outputs": [
        {
          "output_type": "stream",
          "text": [
            "/usr/local/lib/python3.6/dist-packages/ipykernel_launcher.py:11: RuntimeWarning: divide by zero encountered in log\n",
            "  # This is added back by InteractiveShellApp.init_path()\n",
            "/usr/local/lib/python3.6/dist-packages/ipykernel_launcher.py:11: RuntimeWarning: invalid value encountered in multiply\n",
            "  # This is added back by InteractiveShellApp.init_path()\n"
          ],
          "name": "stderr"
        },
        {
          "output_type": "stream",
          "text": [
            "[[-3.32046464]\n",
            " [ 0.72143389]\n",
            " [ 2.85118104]]\n"
          ],
          "name": "stdout"
        },
        {
          "output_type": "display_data",
          "data": {
            "image/png": "[encoded data removed]",
            "text/plain": [
              "<Figure size 432x288 with 1 Axes>"
            ]
          },
          "metadata": {
            "tags": [],
            "needs_background": "light"
          }
        },
        {
          "output_type": "display_data",
          "data": {
            "image/png": "[encoded data removed]",
            "text/plain": [
              "<Figure size 432x288 with 1 Axes>"
            ]
          },
          "metadata": {
            "tags": [],
            "needs_background": "light"
          }
        }
      ]
    },
    {
      "cell_type": "code",
      "metadata": {
        "id": "m9bYJ1oZtSMq",
        "colab": {
          "base_uri": "https://localhost:8080/",
          "height": 563
        },
        "outputId": "98f22eda-1eeb-4dcb-dda2-3904812fdbb5"
      },
      "source": [
        "y[100:200] = 0\n",
        "y[0:100] = 1\n",
        "y = np.asarray(y)\n",
        "y = y.reshape(300,1)\n",
        "weights2,err=log_reg.fit(x_aug.T,y)\n",
        "z =  dot(x_aug.T, weights2)\n",
        "y_pred = log_reg.sigmoid(z)\n",
        "x_classified = log_reg.predict(x_aug.T)\n",
        "print(weights)\n",
        "plt.plot(err)\n",
        "plt.show()\n",
        "plt.plot(x,y_pred)\n",
        "plt.scatter(x,x_classified,c=x_classified)\n",
        "plt.show()"
      ],
      "execution_count": null,
      "outputs": [
        {
          "output_type": "stream",
          "text": [
            "[[ 3.11043084]\n",
            " [-5.36199361]\n",
            " [ 1.45422881]]\n"
          ],
          "name": "stdout"
        },
        {
          "output_type": "display_data",
          "data": {
            "image/png": "[encoded data removed]",
            "text/plain": [
              "<Figure size 432x288 with 1 Axes>"
            ]
          },
          "metadata": {
            "tags": [],
            "needs_background": "light"
          }
        },
        {
          "output_type": "display_data",
          "data": {
            "image/png": "[encoded data removed]",
            "text/plain": [
              "<Figure size 432x288 with 1 Axes>"
            ]
          },
          "metadata": {
            "tags": [],
            "needs_background": "light"
          }
        }
      ]
    },
    {
      "cell_type": "code",
      "metadata": {
        "id": "G-PQFKvktnFc",
        "colab": {
          "base_uri": "https://localhost:8080/",
          "height": 563
        },
        "outputId": "3a61ff0e-61d7-42b5-f9bc-7c4dba3e3749"
      },
      "source": [
        "# take class 2 as '0' and other to '1'\n",
        "# insert your code here\n",
        "# ploting\n",
        "y[100:200] = 1\n",
        "y[0:100] = 1\n",
        "y[200:300] = 0\n",
        "y = np.asarray(y)\n",
        "y = y.reshape(300,1)\n",
        "weights3,err=log_reg.fit(x_aug.T,y)\n",
        "z =  dot(x_aug.T, weights)\n",
        "y_pred = log_reg.sigmoid(z)\n",
        "x_classified = log_reg.predict(x_aug.T)\n",
        "print(weights3)\n",
        "plt.plot(err)\n",
        "plt.show()\n",
        "plt.plot(x,y_pred)\n",
        "plt.scatter(x,x_classified,c=x_classified)\n",
        "plt.show()"
      ],
      "execution_count": null,
      "outputs": [
        {
          "output_type": "stream",
          "text": [
            "[[ 3.90248294]\n",
            " [ 2.84521473]\n",
            " [-1.39180895]]\n"
          ],
          "name": "stdout"
        },
        {
          "output_type": "display_data",
          "data": {
            "image/png": "[encoded data removed]",
            "text/plain": [
              "<Figure size 432x288 with 1 Axes>"
            ]
          },
          "metadata": {
            "tags": [],
            "needs_background": "light"
          }
        },
        {
          "output_type": "display_data",
          "data": {
            "image/png": "[encoded data removed]",
            "text/plain": [
              "<Figure size 432x288 with 1 Axes>"
            ]
          },
          "metadata": {
            "tags": [],
            "needs_background": "light"
          }
        }
      ]
    },
    {
      "cell_type": "code",
      "metadata": {
        "id": "_x6NWsEkxbjH",
        "colab": {
          "base_uri": "https://localhost:8080/",
          "height": 282
        },
        "outputId": "bc2ef60f-eba2-4a38-c303-de6a6c268386"
      },
      "source": [
        "# final classification\n",
        "\n",
        "# insert your code here\n",
        "# Plot decision boundaries\n",
        "\n",
        "prob_0 = log_reg.sigmoid(weights1[0] + x1*weights1[1] + x1_sq*weights1[2])\n",
        "prob_1 = log_reg.sigmoid(weights2[0] + x2*weights2[1] + x2_sq*weights2[2])\n",
        "prob_2 = log_reg.sigmoid(weights3[0] + x3*weights3[1] + x3_sq*weights3[2])\n",
        "prob_max = np.zeros(shape=x1.shape)\n",
        "for i in range(prob_max.shape[0]):\n",
        "    for j in range(prob_max.shape[1]):\n",
        "        maximum = max(prob_0[i][j], prob_1[i][j], prob_2[i][j])\n",
        "        if maximum == prob_0[i][j]:\n",
        "            prob_max[i][j] = 0\n",
        "        elif maximum == prob_1[i][j]:\n",
        "            prob_max[i][j] = 1\n",
        "        else:\n",
        "            prob_max[i][j] = 2\n",
        "\n",
        "plt.figure()\n",
        "plt.plot(x1,prob_max[0:100],'*',color='r')\n",
        "plt.plot(x2,prob_max[100:200],'x',color='y')\n",
        "plt.plot(x3,prob_max[200:300],'.',color='k')\n",
        "#plt.figure()\n",
        "#plt.plot(x1,np.zeros(x1.shape),'*',color='r')\n",
        "#plt.plot(x2,np.ones(x2.shape),'x',color='y')\n",
        "#plt.plot(x3,np.tile([2],x3.shape),'.',color='k')"
      ],
      "execution_count": null,
      "outputs": [
        {
          "output_type": "execute_result",
          "data": {
            "text/plain": [
              "[<matplotlib.lines.Line2D at 0x7f5f1947a9e8>]"
            ]
          },
          "metadata": {
            "tags": []
          },
          "execution_count": 173
        },
        {
          "output_type": "display_data",
          "data": {
            "image/png": "[encoded data removed]",
            "text/plain": [
              "<Figure size 432x288 with 1 Axes>"
            ]
          },
          "metadata": {
            "tags": [],
            "needs_background": "light"
          }
        }
      ]
    },
    {
      "cell_type": "markdown",
      "metadata": {
        "id": "Hozg7Cy_71ue"
      },
      "source": [
        "# Support vector machine\n",
        "\n",
        "1. Try to maximize the margin of separation between data.\n",
        "2. Instead of learning wx+b=0  separating hyperplane directly (like logistic regression), SVM try to learn wx+b=0, such that, the margin between two hyperplanes wx+b=1 and wx+b=-1 (also known as support vectors) is maximum. \n",
        "3. Margin between wx+b=1 and wx+b=-1 hyperplane is $\\frac{2}{||w||}$\n",
        "4. we have a constraint optimization problem of maximizing $\\frac{2}{||w||}$, with constraints wx+b>=1 (for +ve class) and wx+b<=-1 (for -ve class).\n",
        "5. As $y_{i}=1$ for +ve class and $y_{i}=-1$ for -ve class, the constraint can be re-written as:\n",
        "$$y(wx+b)>=1$$\n",
        "\n",
        "6. Final optimization is (i.e to find w and b):\n",
        "$$\\min_{||w||}\\frac{1}{2}||w||,$$\n",
        "$$y(wx+b) \\geq 1,~\\forall ~data $$\n",
        "\n",
        "\n",
        "\n",
        "\n",
        "\n",
        "\n",
        "\n",
        "\n",
        "\n",
        "\n",
        "\n",
        "\n",
        "Acknowledgement:\n",
        "\n",
        "https://pythonprogramming.net/predictions-svm-machine-learning-tutorial/\n",
        "\n",
        "https://medium.com/deep-math-machine-learning-ai/chapter-3-1-svm-from-scratch-in-python-86f93f853dc"
      ]
    },
    {
      "cell_type": "code",
      "metadata": {
        "id": "VZCCspO28ACg"
      },
      "source": [
        "import numpy as np\n",
        "import matplotlib.pyplot as plt\n",
        "import math"
      ],
      "execution_count": null,
      "outputs": []
    },
    {
      "cell_type": "markdown",
      "metadata": {
        "id": "dOe8btABKSBO"
      },
      "source": [
        "## Data generation:\n",
        "1. Generate 2D gaussian data with fixed mean and variance for 2 class.(var=Identity, class1: mean[-4,-4], class2: mean[1,1], No. of data 25 from each class)\n",
        "2. create the label matrix\n",
        "3. Plot the generated data"
      ]
    },
    {
      "cell_type": "code",
      "metadata": {
        "id": "ZMQCjODoKQBe",
        "colab": {
          "base_uri": "https://localhost:8080/",
          "height": 315
        },
        "outputId": "034c9a97-f7b1-432f-ee0b-69eac32516c1"
      },
      "source": [
        "No_sample=50\n",
        "mean1=np.array([-4,-4])\n",
        "var1=np.array([[1,0],[0,1]])\n",
        "mean2=np.array([1,1])\n",
        "var2=var1\n",
        "data1=np.random.multivariate_normal(mean1,var1,int(No_sample/2))\n",
        "data2=np.random.multivariate_normal(mean2,var2,int(No_sample/2))\n",
        "X=np.concatenate((data1,data2))\n",
        "print(X.shape)\n",
        "y=np.concatenate((-1*np.ones(data1.shape[0]),np.ones(data2.shape[0])))\n",
        "print(y.shape)\n",
        "\n",
        "plt.figure()\n",
        "plt.scatter(X[:,0],X[:,1],marker='o',c=y)\n",
        "#print(X)"
      ],
      "execution_count": null,
      "outputs": [
        {
          "output_type": "stream",
          "text": [
            "(50, 2)\n",
            "(50,)\n"
          ],
          "name": "stdout"
        },
        {
          "output_type": "execute_result",
          "data": {
            "text/plain": [
              "<matplotlib.collections.PathCollection at 0x7f5ae446b4e0>"
            ]
          },
          "metadata": {
            "tags": []
          },
          "execution_count": 6
        },
        {
          "output_type": "display_data",
          "data": {
            "image/png": "[encoded data removed]",
            "text/plain": [
              "<Figure size 432x288 with 1 Axes>"
            ]
          },
          "metadata": {
            "tags": [],
            "needs_background": "light"
          }
        }
      ]
    },
    {
      "cell_type": "markdown",
      "metadata": {
        "id": "1ecaYv7ZL0D_"
      },
      "source": [
        "Create a data dictionary, which contains both label and data points."
      ]
    },
    {
      "cell_type": "code",
      "metadata": {
        "id": "tv2YixzZcphV"
      },
      "source": [
        "postiveX=[]\n",
        "negativeX=[]\n",
        "for i,v in enumerate(y):\n",
        "    if v==-1:\n",
        "        negativeX.append(X[i])\n",
        "    else:\n",
        "        postiveX.append(X[i])\n",
        "\n",
        "#our data dictionary\n",
        "data_dict = {-1:np.array(negativeX), 1:np.array(postiveX)} \n",
        "#print(data_dict)"
      ],
      "execution_count": null,
      "outputs": []
    },
    {
      "cell_type": "markdown",
      "metadata": {
        "id": "p8Zk66RiWuS5"
      },
      "source": [
        "## SVM training\n",
        "1. create a search space for w (i.e w1=w2),[0, 0.5*max((abs(feat)))] and  for b, [-max((abs(feat))),max((abs(feat)))], with appropriate step.\n",
        "2. we will start with a higher step and find optimal w and b, then we will reduce the step and again re-evaluate the optimal one.\n",
        "\n",
        "3. In each step, we will take transform of w, [1,1], [-1,1],[1,-1] and [-1,-1] to search arround the w. \n",
        "\n",
        "4. In every pass (for a fixed step size) we will store all the w, b and its corresponding ||w||, which make the data correctly classified as per the condition $y(wx+b) \\geq 1$. \n",
        "\n",
        "5. Obtain the optimal hyperplane having minimum ||w||.\n",
        "\n",
        "6. Start with the optimal w and repeat the same (step 3,4 and 5) for a reduced step size.\n"
      ]
    },
    {
      "cell_type": "code",
      "metadata": {
        "id": "AafDodH6c6BX",
        "colab": {
          "base_uri": "https://localhost:8080/"
        },
        "outputId": "73f8110e-5c1d-46ce-e48a-a7e0d758c41e"
      },
      "source": [
        "# it is just a searching algorithem, not a complicated optimization algorithem, (just for understanding of concepts through visualization)\n",
        "\n",
        "\n",
        "def SVM_Training(data_dict):\n",
        "\n",
        "    # insert your code here\n",
        "    i=1\n",
        "    global w\n",
        "    global b\n",
        "    # { ||w||: [w,b] }\n",
        "    length_Wvector = {}\n",
        "    transforms = [[1,1],[-1,1],[-1,-1],[1,-1]]\n",
        "    \n",
        "    b_step_size = 2\n",
        "    b_multiple = 5\n",
        "    w_optimum = max_feature_value*0.5\n",
        "\n",
        "    for lrate in learning_rate:\n",
        "        \n",
        "        w = np.array([w_optimum,w_optimum])     \n",
        "        optimized = False\n",
        "        while not optimized:\n",
        "            #b=[-maxvalue to maxvalue] we wanna maximize the b values so check for every b value\n",
        "            for b in np.arange(-1*(max_feature_value*b_step_size), max_feature_value*b_step_size, lrate*b_multiple):\n",
        "                for transformation in transforms:  # transforms = [[1,1],[-1,1],[-1,-1],[1,-1]]\n",
        "                    w_t = w*transformation\n",
        "                    \n",
        "                    correctly_classified = True\n",
        "                    \n",
        "                    # every data point should be correct\n",
        "                    for yi in data_dict:\n",
        "                        for xi in data_dict[yi]:\n",
        "                            if yi*(np.dot(w_t,xi)+b) < 1:  # we want  yi*(np.dot(w_t,xi)+b) >= 1 for correct classification\n",
        "                                correctly_classified = False\n",
        "                                \n",
        "                    if correctly_classified:\n",
        "                        length_Wvector[np.linalg.norm(w_t)] = [w_t,b] #store w, b for minimum magnitude\n",
        "            \n",
        "            if w[0] < 0:\n",
        "                optimized = True\n",
        "            else:\n",
        "                w = w - lrate\n",
        "\n",
        "        norms = sorted([n for n in length_Wvector])\n",
        "        \n",
        "        minimum_wlength = length_Wvector[norms[0]]\n",
        "        w = minimum_wlength[0]\n",
        "        b = minimum_wlength[1]\n",
        "        \n",
        "        w_optimum = w[0]+lrate*2\n",
        "    return w,b\n",
        "\n"
      ],
      "execution_count": null,
      "outputs": [
        {
          "output_type": "stream",
          "text": [
            "-1.2272517377633916\n",
            "3.2855404053510378\n"
          ],
          "name": "stdout"
        }
      ]
    },
    {
      "cell_type": "markdown",
      "metadata": {
        "id": "JvFsoKXxe6IX"
      },
      "source": [
        "**Training**"
      ]
    },
    {
      "cell_type": "code",
      "metadata": {
        "id": "CShR8NSac8BO",
        "colab": {
          "base_uri": "https://localhost:8080/"
        },
        "outputId": "933072b4-d29b-43af-cb5a-11fbc05a5f49"
      },
      "source": [
        "\n",
        "#all the required variables \n",
        "w=[] #weights 2 dimensional vector\n",
        "b=[] #bias\n",
        "max_feature_value=float('-inf')\n",
        "min_feature_value=float('+inf')\n",
        "      \n",
        "for yi in data_dict:\n",
        "    if np.amax(data_dict[yi])>max_feature_value:\n",
        "        max_feature_value=np.amax(data_dict[yi])\n",
        "                \n",
        "    if np.amin(data_dict[yi])<min_feature_value:\n",
        "        min_feature_value=np.amin(data_dict[yi])\n",
        "learning_rate = [max_feature_value * 0.1, max_feature_value * 0.01, max_feature_value * 0.001,]\n",
        "w,b=SVM_Training(data_dict)\n",
        "print(w)\n",
        "print(b)"
      ],
      "execution_count": null,
      "outputs": [
        {
          "output_type": "stream",
          "text": [
            "[0.4468335 0.4468335]\n",
            "1.1499391418728413\n"
          ],
          "name": "stdout"
        }
      ]
    },
    {
      "cell_type": "markdown",
      "metadata": {
        "id": "d8jDgEH5fAKt"
      },
      "source": [
        "## Visualization of the SVM separating hyperplanes (after training)"
      ]
    },
    {
      "cell_type": "code",
      "metadata": {
        "id": "YYcTUEFZdKLd"
      },
      "source": [
        "def visualize(data_dict):\n",
        "       \n",
        "        \n",
        "        \n",
        "        \n",
        "        plt.scatter(X[:,0],X[:,1],marker='o',c=y)\n",
        "\n",
        "        # hyperplane = x.w+b\n",
        "        # v = x.w+b\n",
        "        # psv = 1\n",
        "        # nsv = -1\n",
        "        # dec = 0\n",
        "        def hyperplane_value(x,w,b,v):\n",
        "            return (-w[0]*x-b+v) / w[1]\n",
        "\n",
        "        \n",
        "        hyp_x_min = np.min([np.min(data_dict[1]),np.min(data_dict[-1])])\n",
        "        hyp_x_max = np.max([np.max(data_dict[1]),np.max(data_dict[-1])])\n",
        "\n",
        "        # (w.x+b) = 1\n",
        "        # positive support vector hyperplane\n",
        "        psv1 = hyperplane_value(hyp_x_min, w, b, 1)\n",
        "        psv2 = hyperplane_value(hyp_x_max, w, b, 1)\n",
        "        plt.plot([hyp_x_min,hyp_x_max],[psv1,psv2], 'k')\n",
        "\n",
        "        # (w.x+b) = -1\n",
        "        # negative support vector hyperplane\n",
        "        nsv1 = hyperplane_value(hyp_x_min, w, b, -1)\n",
        "        nsv2 = hyperplane_value(hyp_x_max, w, b, -1)\n",
        "        plt.plot([hyp_x_min,hyp_x_max],[nsv1,nsv2], 'k')\n",
        "\n",
        "        # (w.x+b) = 0\n",
        "        # positive support vector hyperplane\n",
        "        db1 = hyperplane_value(hyp_x_min, w, b, 0)\n",
        "        db2 = hyperplane_value(hyp_x_max, w, b, 0)\n",
        "        plt.plot([hyp_x_min,hyp_x_max],[db1,db2], 'y--')\n",
        "        \n",
        "        \n",
        "        "
      ],
      "execution_count": null,
      "outputs": []
    },
    {
      "cell_type": "code",
      "metadata": {
        "id": "GamcosyndOjq",
        "colab": {
          "base_uri": "https://localhost:8080/",
          "height": 265
        },
        "outputId": "c649c063-a686-402e-9f45-61b1091e797e"
      },
      "source": [
        "fig = plt.figure()\n",
        "visualize(data_dict)"
      ],
      "execution_count": null,
      "outputs": [
        {
          "output_type": "display_data",
          "data": {
            "image/png": "[encoded data removed]",
            "text/plain": [
              "<Figure size 432x288 with 1 Axes>"
            ]
          },
          "metadata": {
            "tags": [],
            "needs_background": "light"
          }
        }
      ]
    },
    {
      "cell_type": "markdown",
      "metadata": {
        "id": "f-xxiXTufMsR"
      },
      "source": [
        "## Testing\n",
        "\n",
        "1. Generate test data as like training\n",
        "2. See the classification\n",
        "\n",
        "3. if $wx_{test}+b > 0$, $y_{test}=1$ else $y_{test}=-1$\n"
      ]
    },
    {
      "cell_type": "code",
      "metadata": {
        "id": "YLPt6JRHdJUI"
      },
      "source": [
        "def predict(data,w,b):\n",
        "  y_pred=np.sign(np.dot(data,w)+b)\n",
        "  return y_pred"
      ],
      "execution_count": null,
      "outputs": []
    },
    {
      "cell_type": "code",
      "metadata": {
        "id": "_qDbv7CDfL47",
        "colab": {
          "base_uri": "https://localhost:8080/",
          "height": 282
        },
        "outputId": "24d8fbfe-6f16-47bc-a120-968109ccbbb2"
      },
      "source": [
        "No_test_sample=40\n",
        "data1=np.random.multivariate_normal(mean1,var1,int(No_test_sample/2))\n",
        "data2=np.random.multivariate_normal(mean2,var2,int(No_test_sample/2))\n",
        "test_data=np.concatenate((data1,data2))\n",
        "y_gr=np.concatenate((-1*np.ones(data1.shape[0]),np.ones(data2.shape[0])))\n",
        "\n",
        "\n",
        "# evaluate with the trained model\n",
        "\n",
        "y_pred=predict(test_data,w,b)\n",
        "\n",
        "accuracy_list= [1 for i in range(len(y_pred)) if y_pred[i] == y_gr[i]]# insert your code here\n",
        "accuracy = (sum(accuracy_list)/len(accuracy_list))*100\n",
        "\n",
        "\n",
        "print('test accuracy=',accuracy)\n",
        "\n",
        "#  Visualization\n",
        "plt.figure()\n",
        "visualize(data_dict)\n",
        "plt.scatter(test_data[:,0],test_data[:,1],marker='x',c=y_gr)\n",
        "plt.show()\n",
        "\n"
      ],
      "execution_count": null,
      "outputs": [
        {
          "output_type": "stream",
          "text": [
            "test accuracy= 100.0\n"
          ],
          "name": "stdout"
        },
        {
          "output_type": "display_data",
          "data": {
            "image/png": "[encoded data removed]",
            "text/plain": [
              "<Figure size 432x288 with 1 Axes>"
            ]
          },
          "metadata": {
            "tags": [],
            "needs_background": "light"
          }
        }
      ]
    }
  ]
}